{
 "cells": [
  {
   "cell_type": "code",
   "execution_count": 1,
   "id": "2dc07bf8-872a-4218-8b55-4793dec45286",
   "metadata": {},
   "outputs": [],
   "source": [
    "import easyocr\n",
    "from transformers import pipeline"
   ]
  },
  {
   "cell_type": "code",
   "execution_count": 2,
   "id": "ff4e2f35-b861-4fb4-a879-e48ed46a2586",
   "metadata": {},
   "outputs": [
    {
     "name": "stdout",
     "output_type": "stream",
     "text": [
      "WARNING:tensorflow:From C:\\Users\\PCR\\AppData\\Local\\Programs\\Python\\Python312\\Lib\\site-packages\\tf_keras\\src\\losses.py:2976: The name tf.losses.sparse_softmax_cross_entropy is deprecated. Please use tf.compat.v1.losses.sparse_softmax_cross_entropy instead.\n",
      "\n"
     ]
    },
    {
     "name": "stderr",
     "output_type": "stream",
     "text": [
      "C:\\Users\\PCR\\AppData\\Local\\Programs\\Python\\Python312\\Lib\\site-packages\\transformers\\models\\marian\\tokenization_marian.py:175: UserWarning: Recommended: pip install sacremoses.\n",
      "  warnings.warn(\"Recommended: pip install sacremoses.\")\n",
      "C:\\Users\\PCR\\AppData\\Local\\Programs\\Python\\Python312\\Lib\\site-packages\\transformers\\tokenization_utils_base.py:1601: FutureWarning: `clean_up_tokenization_spaces` was not set. It will be set to `True` by default. This behavior will be depracted in transformers v4.45, and will be then set to `False` by default. For more details check this issue: https://github.com/huggingface/transformers/issues/31884\n",
      "  warnings.warn(\n",
      "No model was supplied, defaulted to google-t5/t5-base and revision 686f1db (https://huggingface.co/google-t5/t5-base).\n",
      "Using a pipeline without specifying a model name and revision in production is not recommended.\n"
     ]
    }
   ],
   "source": [
    "translation_ja = pipeline(\"translation\", model=\"Helsinki-NLP/opus-tatoeba-en-ja\")\n",
    "translation_de=pipeline('translation_en_to_de')\n",
    "translation_ur=pipeline(\"translation\", model=\"Helsinki-NLP/opus-mt-en-ur\")"
   ]
  },
  {
   "cell_type": "code",
   "execution_count": 3,
   "id": "e40a0f2a-8422-4022-b2b3-d2d8152d1fd4",
   "metadata": {},
   "outputs": [
    {
     "name": "stderr",
     "output_type": "stream",
     "text": [
      "Using CPU. Note: This module is much faster with a GPU.\n"
     ]
    }
   ],
   "source": [
    "reader=easyocr.Reader(['en'],False)"
   ]
  },
  {
   "cell_type": "code",
   "execution_count": 4,
   "id": "8cdff238-77ae-40c9-89d6-c3992d355e17",
   "metadata": {},
   "outputs": [],
   "source": [
    "def translation_transformers(text,language):\n",
    "    if 'ur'==language:\n",
    "        results=translation_ur(text)\n",
    "    if 'de'==language:\n",
    "        results=translation_de(text)\n",
    "    if 'ja'==language:\n",
    "        results=translation_ja(text)\n",
    "    return results[0]['translation_text']"
   ]
  },
  {
   "cell_type": "code",
   "execution_count": 6,
   "id": "be33451a-4b89-4dc4-8732-b7c9623e0ac0",
   "metadata": {},
   "outputs": [],
   "source": [
    "def image_to_text_with_translation(img_path,language_to_translate='ur',filtering_text=True):\n",
    "    text=' '\n",
    "    for result in reader.readtext(img_path):\n",
    "        txt=result[1]+' '\n",
    "        texts=text+txt\n",
    "        text=texts\n",
    "    if filtering_text:\n",
    "        filters=\"!#$%&*+-/;<=>@^_`|'~\\t\\n?\"\n",
    "        for filter in filters:\n",
    "            filter_text=text.replace(filter,' ')\n",
    "            if filter_text!=text:\n",
    "                text=filter_text\n",
    "                if filter=='  ':\n",
    "                    filter_text=text.replace(filter,' ')\n",
    "            else:\n",
    "                filter_text=text\n",
    "            text=str(text)\n",
    "    else:\n",
    "        text=str(text)\n",
    "    translated_text=translation_transformers(text,language_to_translate)\n",
    "    return translated_text"
   ]
  },
  {
   "cell_type": "code",
   "execution_count": 8,
   "id": "28313cb2-6cca-4ae9-b043-504641fa5a14",
   "metadata": {},
   "outputs": [
    {
     "data": {
      "text/plain": [
       "'Nov . Ich nenne mich Ishmael. Vor einigen Jahren, egal wie lange ich gerade wenig Geld in meinem Portemonnaie, und nichts besonderes Interesse am Ufer, dachte, ich würde um wenig segeln und den wasserigen Teil der Welt sehen. Es ist eine Möglichkeit, die Milz zu treiben und den Kreislauf zu regulieren.'"
      ]
     },
     "execution_count": 8,
     "metadata": {},
     "output_type": "execute_result"
    }
   ],
   "source": [
    "image_to_text_with_translation('plain-text.png','de')"
   ]
  },
  {
   "cell_type": "code",
   "execution_count": 9,
   "id": "cf50ef01-833d-486b-9879-ea145a431e2c",
   "metadata": {},
   "outputs": [
    {
     "data": {
      "text/plain": [
       "'کچھ سال پہلے مجھے یاد نہیں آیا کہ میرے بیگ میں کتنا کم رقم ہے، اور خاص دلچسپی نہیں رہی، اور میں نے سوچا کہ میں دنیا کے کچھ حصہ کو دور دیکھنا چاہتا ہوں'"
      ]
     },
     "execution_count": 9,
     "metadata": {},
     "output_type": "execute_result"
    }
   ],
   "source": [
    "image_to_text_with_translation('plain-text.png')"
   ]
  },
  {
   "cell_type": "code",
   "execution_count": null,
   "id": "d78b6e11-953e-44bf-85ee-ad06bd7b33a1",
   "metadata": {},
   "outputs": [],
   "source": []
  }
 ],
 "metadata": {
  "kernelspec": {
   "display_name": "Python 3 (ipykernel)",
   "language": "python",
   "name": "python3"
  },
  "language_info": {
   "codemirror_mode": {
    "name": "ipython",
    "version": 3
   },
   "file_extension": ".py",
   "mimetype": "text/x-python",
   "name": "python",
   "nbconvert_exporter": "python",
   "pygments_lexer": "ipython3",
   "version": "3.12.3"
  }
 },
 "nbformat": 4,
 "nbformat_minor": 5
}
